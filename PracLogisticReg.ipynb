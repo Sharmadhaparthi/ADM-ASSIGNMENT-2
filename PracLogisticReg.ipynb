{
  "cells": [
    {
      "cell_type": "markdown",
      "source": [
        "## **ASSIGNMENT 2**\n",
        "\n",
        "TEAM MEMBERS\n",
        "\n",
        "*   Sharmadha Parthiban (002100759)\n",
        "*   Tejal Sadanand Tandel (001563752)"
      ],
      "metadata": {
        "id": "jCiPX4Rp7ALL"
      }
    },
    {
      "cell_type": "code",
      "execution_count": null,
      "metadata": {
        "colab": {
          "base_uri": "https://localhost:8080/"
        },
        "id": "nR0ruWYCjIC0",
        "outputId": "15b6b2cf-39b6-45c6-8a68-7fcca844b682"
      },
      "outputs": [
        {
          "output_type": "stream",
          "name": "stdout",
          "text": [
            "Collecting demjson\n",
            "  Downloading demjson-2.2.4.tar.gz (131 kB)\n",
            "\u001b[?25l\r\u001b[K     |██▌                             | 10 kB 16.8 MB/s eta 0:00:01\r\u001b[K     |█████                           | 20 kB 22.7 MB/s eta 0:00:01\r\u001b[K     |███████▌                        | 30 kB 17.4 MB/s eta 0:00:01\r\u001b[K     |██████████                      | 40 kB 18.9 MB/s eta 0:00:01\r\u001b[K     |████████████▌                   | 51 kB 8.8 MB/s eta 0:00:01\r\u001b[K     |███████████████                 | 61 kB 10.1 MB/s eta 0:00:01\r\u001b[K     |█████████████████▌              | 71 kB 9.7 MB/s eta 0:00:01\r\u001b[K     |████████████████████            | 81 kB 10.3 MB/s eta 0:00:01\r\u001b[K     |██████████████████████▍         | 92 kB 11.3 MB/s eta 0:00:01\r\u001b[K     |█████████████████████████       | 102 kB 9.9 MB/s eta 0:00:01\r\u001b[K     |███████████████████████████▍    | 112 kB 9.9 MB/s eta 0:00:01\r\u001b[K     |██████████████████████████████  | 122 kB 9.9 MB/s eta 0:00:01\r\u001b[K     |████████████████████████████████| 131 kB 9.9 MB/s \n",
            "\u001b[?25hBuilding wheels for collected packages: demjson\n",
            "  Building wheel for demjson (setup.py) ... \u001b[?25l\u001b[?25hdone\n",
            "  Created wheel for demjson: filename=demjson-2.2.4-py3-none-any.whl size=73565 sha256=a2796d454867cb1f10f7e3ff39bd9ee22df2e1741513d600966679d03bb66455\n",
            "  Stored in directory: /root/.cache/pip/wheels/41/94/3d/466801f4a8db8e6fce765d7a0115dfebcc55ddf6b00cd98f59\n",
            "Successfully built demjson\n",
            "Installing collected packages: demjson\n",
            "Successfully installed demjson-2.2.4\n"
          ]
        }
      ],
      "source": [
        "!pip install demjson\n",
        "import csv\n",
        "import dateutil.parser # for parsing plain-text dates\n",
        "import demjson # json (loose formatting)\n",
        "import json\n",
        "import math\n",
        "import matplotlib.pyplot as plt\n",
        "import numpy as np\n",
        "import sklearn\n",
        "import pandas as pd\n",
        "import tensorflow as tf\n",
        "from collections import defaultdict\n",
        "from sklearn import linear_model"
      ]
    },
    {
      "cell_type": "markdown",
      "metadata": {
        "id": "Zp19_pD2PKhm"
      },
      "source": [
        "\n",
        "\n",
        "---\n",
        "# EXCERCISE QUESTIONS: CHAPTER 4\n",
        "\n",
        "---\n",
        "\n",
        "# 4.1\n",
        "\n",
        "\n",
        "---\n",
        "\n"
      ]
    },
    {
      "cell_type": "code",
      "execution_count": null,
      "metadata": {
        "id": "XnVTCET6KAjs"
      },
      "outputs": [],
      "source": [
        "\n",
        "path = \"/content/fantasy_100.json\"\n",
        "f = open(path)\n",
        "\n",
        "data = []\n",
        "\n",
        "for l in f:\n",
        "    d = json.loads(l)\n",
        "    data.append(d)\n",
        "    \n",
        "f.close()"
      ]
    },
    {
      "cell_type": "code",
      "execution_count": null,
      "metadata": {
        "colab": {
          "base_uri": "https://localhost:8080/"
        },
        "id": "61CBgDQRJZbQ",
        "outputId": "b9d0ddb9-9de3-46a9-9370-61a08a85edef"
      },
      "outputs": [
        {
          "output_type": "execute_result",
          "data": {
            "text/plain": [
              "{'book_id': '18245960',\n",
              " 'date_added': 'Sun Jul 30 07:44:10 -0700 2017',\n",
              " 'date_updated': 'Wed Aug 30 00:00:26 -0700 2017',\n",
              " 'n_comments': 1,\n",
              " 'n_votes': 28,\n",
              " 'rating': 5,\n",
              " 'read_at': 'Sat Aug 26 12:05:52 -0700 2017',\n",
              " 'review_id': 'dfdbb7b0eb5a7e4c26d59a937e2e5feb',\n",
              " 'review_text': 'This is a special book. It started slow for about the first third, then in the middle third it started to get interesting, then the last third blew my mind. This is what I love about good science fiction - it pushes your thinking about where things can go. \\n It is a 2015 Hugo winner, and translated from its original Chinese, which made it interesting in just a different way from most things I\\'ve read. For instance the intermixing of Chinese revolutionary history - how they kept accusing people of being \"reactionaries\", etc. \\n It is a book about science, and aliens. The science described in the book is impressive - its a book grounded in physics and pretty accurate as far as I could tell. Though when it got to folding protons into 8 dimensions I think he was just making stuff up - interesting to think about though. \\n But what would happen if our SETI stations received a message - if we found someone was out there - and the person monitoring and answering the signal on our side was disillusioned? That part of the book was a bit dark - I would like to think human reaction to discovering alien civilization that is hostile would be more like Enders Game where we would band together. \\n I did like how the book unveiled the Trisolaran culture through the game. It was a smart way to build empathy with them and also understand what they\\'ve gone through across so many centuries. And who know a 3 body problem was an unsolvable math problem? But I still don\\'t get who made the game - maybe that will come in the next book. \\n I loved this quote: \\n \"In the long history of scientific progress, how many protons have been smashed apart in accelerators by physicists? How many neutrons and electrons? Probably no fewer than a hundred million. Every collision was probably the end of the civilizations and intelligences in a microcosmos. In fact, even in nature, the destruction of universes must be happening at every second--for example, through the decay of neutrons. Also, a high-energy cosmic ray entering the atmosphere may destroy thousands of such miniature universes....\"',\n",
              " 'started_at': 'Tue Aug 15 13:23:18 -0700 2017',\n",
              " 'user_id': '8842281e1d1347389f2ab93d60773d4d'}"
            ]
          },
          "metadata": {},
          "execution_count": 86
        }
      ],
      "source": [
        "data[0]"
      ]
    },
    {
      "cell_type": "code",
      "execution_count": null,
      "metadata": {
        "id": "xZnufYrkKkvA"
      },
      "outputs": [],
      "source": [
        "usersPerItem = defaultdict(set) # Maps an item to the users who rated it\n",
        "itemsPerUser = defaultdict(set) # Maps a user to the items that they rated\n",
        "ratingDict = {} # To retrieve a rating for a specific user/item pair\n",
        "\n",
        "for d in data:\n",
        "    user,item = d['user_id'], d['book_id']\n",
        "    usersPerItem[item].add(user)\n",
        "    itemsPerUser[user].add(item)\n",
        "    ratingDict[(user,item)] = d['rating']"
      ]
    },
    {
      "cell_type": "code",
      "execution_count": null,
      "metadata": {
        "id": "5nEjyiZUMwax"
      },
      "outputs": [],
      "source": [
        "userAverages = {}\n",
        "itemAverages = {}\n",
        "\n",
        "for u in itemsPerUser:\n",
        "    rs = [ratingDict[(u,i)] for i in itemsPerUser[u]]\n",
        "    userAverages[u] = sum(rs) / len(rs)\n",
        "    \n",
        "for i in usersPerItem:\n",
        "    rs = [ratingDict[(u,i)] for u in usersPerItem[i]]\n",
        "    itemAverages[i] = sum(rs) / len(rs)"
      ]
    },
    {
      "cell_type": "code",
      "execution_count": null,
      "metadata": {
        "id": "OfbhUNzWN7Mx"
      },
      "outputs": [],
      "source": [
        "# function creation\n",
        "def Jaccard(s1, s2):\n",
        "    numer = len(s1.intersection(s2))\n",
        "    denom = len(s1.union(s2))\n",
        "    if denom == 0:\n",
        "        return 0\n",
        "    return numer / denom"
      ]
    },
    {
      "cell_type": "code",
      "execution_count": null,
      "metadata": {
        "id": "1U-Lip2aN_s0"
      },
      "outputs": [],
      "source": [
        "# Building a candidate set of items with at least one user in common with the query\n",
        "\n",
        "def mostSimilar(i, N):\n",
        "    similarities = []\n",
        "    users = usersPerItem[i]\n",
        "    for i2 in usersPerItem:\n",
        "        if i2 == i: continue\n",
        "        sim = Jaccard(users, usersPerItem[i2])\n",
        "        #sim = Pearson(i, i2) # Could use alternate similarity metrics straightforwardly\n",
        "        similarities.append((sim,i2))\n",
        "    similarities.sort(reverse=True)\n",
        "    return similarities[:10]"
      ]
    },
    {
      "cell_type": "code",
      "execution_count": null,
      "metadata": {
        "colab": {
          "base_uri": "https://localhost:8080/"
        },
        "id": "nHW0wpP8OZUX",
        "outputId": "4e5bc3e3-9e44-428f-8135-d5f3ff090271"
      },
      "outputs": [
        {
          "output_type": "execute_result",
          "data": {
            "text/plain": [
              "{'book_id': '5577844',\n",
              " 'date_added': 'Wed Sep 24 09:29:29 -0700 2014',\n",
              " 'date_updated': 'Wed Oct 01 00:31:56 -0700 2014',\n",
              " 'n_comments': 1,\n",
              " 'n_votes': 5,\n",
              " 'rating': 5,\n",
              " 'read_at': 'Tue Sep 30 00:00:00 -0700 2014',\n",
              " 'review_id': '52c8ac49496c153e4a97161e36b2db55',\n",
              " 'review_text': 'A beautiful story. Neil Gaiman is truly a unique storyteller. I did a combo of reading and listening to this story, and Neil is great at reading as well. I got interested in this book after seeing the movie, which I really enjoyed. The book is similar - maybe a bit more poetic - but I think the plot in the movie is a bit improved (not much, but a bit). \\n I imagine this book came about because Neil read the below poem that he includes in the beginning, and then he invented a plot around it. The result is the book reads like a epic poem - it\\'s creative, magical, and really, just right. \\n Go and catch a falling star, \\n Get with child a mandrake root, \\n Tell me where all past years are, \\n Or who cleft the devil\\'s foot, \\n Teach me to hear mermaids singing, \\n Or to keep off envy\\'s stinging, \\n And find \\n What wind \\n Serves to advance an honest mind. \\n If thou be\\'st born to strange sights, \\n Things invisible to see, \\n Ride ten thousand days and nights, \\n Till age snow white hairs on thee, \\n Thou, when thou return\\'st, wilt tell me, \\n All strange wonders that befell thee, \\n And swear, \\n No where \\n Lives a woman true, and fair. \\n If thou find\\'st one, let me know, \\n Such a pilgrimage were sweet; \\n Yet do not, I would not go, \\n Though at next door we might meet; \\n Though she were true, when you met her, \\n And last, till you write your letter, \\n Yet she \\n Will be \\n False, ere I come, to two, or three. \\n And here is my new favorite quote: \"Have been unavoidably detained by the world. Expect us when you see us.\"',\n",
              " 'started_at': 'Sun Sep 21 00:00:00 -0700 2014',\n",
              " 'user_id': '8842281e1d1347389f2ab93d60773d4d'}"
            ]
          },
          "metadata": {},
          "execution_count": 52
        }
      ],
      "source": [
        "data[1]"
      ]
    },
    {
      "cell_type": "code",
      "execution_count": null,
      "metadata": {
        "id": "WoJbMV2uOnu9"
      },
      "outputs": [],
      "source": [
        "query = data[1]['book_id']"
      ]
    },
    {
      "cell_type": "code",
      "execution_count": null,
      "metadata": {
        "colab": {
          "base_uri": "https://localhost:8080/"
        },
        "id": "Y7kGuPeBOr1P",
        "outputId": "d6ac4a96-1bc4-4cfb-fb41-1a950c11bbf6"
      },
      "outputs": [
        {
          "output_type": "execute_result",
          "data": {
            "text/plain": [
              "[(1.0, '897461'),\n",
              " (1.0, '77566'),\n",
              " (1.0, '76620'),\n",
              " (1.0, '62291'),\n",
              " (1.0, '6'),\n",
              " (1.0, '52357'),\n",
              " (1.0, '41804'),\n",
              " (1.0, '34497'),\n",
              " (1.0, '2'),\n",
              " (1.0, '18245960')]"
            ]
          },
          "metadata": {},
          "execution_count": 54
        }
      ],
      "source": [
        "ms = mostSimilar(query, 10)\n",
        "ms"
      ]
    },
    {
      "cell_type": "code",
      "execution_count": null,
      "metadata": {
        "id": "BHkyFm9ZOxKe"
      },
      "outputs": [],
      "source": [
        "#Faster implementation\n",
        "def mostSimilarFast(i, N):\n",
        "    similarities = []\n",
        "    users = usersPerItem[i]\n",
        "    candidateItems = set()\n",
        "    for u in users:\n",
        "        candidateItems = candidateItems.union(itemsPerUser[u])\n",
        "    for i2 in candidateItems:\n",
        "        if i2 == i: continue\n",
        "        sim = Jaccard(users, usersPerItem[i2])\n",
        "        similarities.append((sim,i2))\n",
        "    similarities.sort(reverse=True)\n",
        "    return similarities[:N]"
      ]
    },
    {
      "cell_type": "code",
      "execution_count": null,
      "metadata": {
        "colab": {
          "base_uri": "https://localhost:8080/"
        },
        "id": "IeRxlbrmO9BP",
        "outputId": "a85eb289-04e0-41dc-e15d-179ef400082b"
      },
      "outputs": [
        {
          "output_type": "execute_result",
          "data": {
            "text/plain": [
              "[(1.0, '897461'),\n",
              " (1.0, '77566'),\n",
              " (1.0, '76620'),\n",
              " (1.0, '62291'),\n",
              " (1.0, '6'),\n",
              " (1.0, '52357'),\n",
              " (1.0, '41804'),\n",
              " (1.0, '34497'),\n",
              " (1.0, '2'),\n",
              " (1.0, '18245960')]"
            ]
          },
          "metadata": {},
          "execution_count": 56
        }
      ],
      "source": [
        "#confirming the results\n",
        "mostSimilarFast(query, 10)"
      ]
    },
    {
      "cell_type": "markdown",
      "metadata": {
        "id": "k7XpXx0gPdrq"
      },
      "source": [
        "\n",
        "\n",
        "---\n",
        "\n",
        "# 4.2\n",
        "\n",
        "---\n",
        "\n"
      ]
    },
    {
      "cell_type": "code",
      "execution_count": null,
      "metadata": {
        "id": "mMG-tNGUjNpB"
      },
      "outputs": [],
      "source": [
        "import math\n",
        "import random\n",
        "from collections import defaultdict"
      ]
    },
    {
      "cell_type": "code",
      "execution_count": null,
      "metadata": {
        "colab": {
          "base_uri": "https://localhost:8080/",
          "height": 73,
          "resources": {
            "http://localhost:8080/nbextensions/google.colab/files.js": {
              "data": "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",
              "headers": [
                [
                  "content-type",
                  "application/javascript"
                ]
              ],
              "ok": true,
              "status": 200,
              "status_text": ""
            }
          }
        },
        "id": "LBd_mRi4PvXJ",
        "outputId": "94e081f9-06a3-45dc-dbff-e5f4ebb112e6"
      },
      "outputs": [
        {
          "output_type": "display_data",
          "data": {
            "text/html": [
              "\n",
              "     <input type=\"file\" id=\"files-50461cba-e714-4e45-b986-346c43732b68\" name=\"files[]\" multiple disabled\n",
              "        style=\"border:none\" />\n",
              "     <output id=\"result-50461cba-e714-4e45-b986-346c43732b68\">\n",
              "      Upload widget is only available when the cell has been executed in the\n",
              "      current browser session. Please rerun this cell to enable.\n",
              "      </output>\n",
              "      <script src=\"/nbextensions/google.colab/files.js\"></script> "
            ],
            "text/plain": [
              "<IPython.core.display.HTML object>"
            ]
          },
          "metadata": {}
        },
        {
          "output_type": "stream",
          "name": "stdout",
          "text": [
            "Saving fantasy_100.json to fantasy_100 (1).json\n"
          ]
        }
      ],
      "source": [
        "from google.colab import files\n",
        "uploaded = files.upload()"
      ]
    },
    {
      "cell_type": "code",
      "execution_count": null,
      "metadata": {
        "id": "ZpXHJM2QkZfs"
      },
      "outputs": [],
      "source": [
        "def simTest(simFunction, nUserSamples):\n",
        "    sims = []\n",
        "    randomSims = []\n",
        "\n",
        "    items = set(usersPerItem.keys())\n",
        "    users = list(itemsPerUser.keys())\n",
        "\n",
        "    for u in random.sample(users, nUserSamples):\n",
        "        itemsU = set(itemsPerUser[u])\n",
        "        if len(itemsU) < 2: continue # User needs at least two interactions\n",
        "        (i,j) = random.sample(itemsU, 2)\n",
        "        k = random.sample(items.difference(itemsU),1)[0]\n",
        "        usersi = usersPerItem[i].difference(set([u]))\n",
        "        usersj = usersPerItem[j].difference(set([u]))\n",
        "        usersk = usersPerItem[k].difference(set([u]))\n",
        "        sims.append(simFunction(usersi,usersj))\n",
        "        randomSims.append(simFunction(usersi,usersk))\n",
        "\n",
        "    print(\"Average similarity = \" + str(sum(sims)/len(sims)))\n",
        "    print(\"Average similarity (with random item) = \" + str(sum(randomSims)/len(randomSims)))"
      ]
    },
    {
      "cell_type": "code",
      "execution_count": null,
      "metadata": {
        "id": "aC_rPM6qhoYi",
        "colab": {
          "base_uri": "https://localhost:8080/"
        },
        "outputId": "29833295-841b-4f28-e102-f03f6e2ce0ce"
      },
      "outputs": [
        {
          "output_type": "stream",
          "name": "stdout",
          "text": [
            "Average similarity = 0.0\n",
            "Average similarity (with random item) = 0.125\n"
          ]
        }
      ],
      "source": [
        "simTest(Jaccard, 10)"
      ]
    },
    {
      "cell_type": "code",
      "execution_count": null,
      "metadata": {
        "id": "yL8iKwlTks5j"
      },
      "outputs": [],
      "source": [
        "\n",
        "def CosineSet(s1, s2):\n",
        "    # Not a proper implementation, operates on sets so correct for interactions only\n",
        "    numer = len(s1.intersection(s2))\n",
        "    denom = math.sqrt(len(s1)) * math.sqrt(len(s2))\n",
        "    if denom == 0:\n",
        "        return 0\n",
        "    return numer / denom"
      ]
    },
    {
      "cell_type": "code",
      "execution_count": null,
      "metadata": {
        "id": "DFI1DK4IkfzD",
        "colab": {
          "base_uri": "https://localhost:8080/"
        },
        "outputId": "644f25b7-705c-45d3-8646-d0cb02b8f11d"
      },
      "outputs": [
        {
          "output_type": "stream",
          "name": "stdout",
          "text": [
            "Average similarity = 0.0\n",
            "Average similarity (with random item) = 0.0\n"
          ]
        }
      ],
      "source": [
        "simTest(CosineSet, 10)"
      ]
    },
    {
      "cell_type": "markdown",
      "metadata": {
        "id": "GH9FcnECiUEL"
      },
      "source": [
        "\n",
        "\n",
        "---\n",
        "\n",
        "# 4.3\n",
        "\n",
        "---\n",
        "\n"
      ]
    },
    {
      "cell_type": "code",
      "execution_count": null,
      "metadata": {
        "id": "o6WlBo_mieWO"
      },
      "outputs": [],
      "source": [
        "items = set(usersPerItem.keys())\n",
        "users = set(itemsPerUser.keys())"
      ]
    },
    {
      "cell_type": "code",
      "execution_count": null,
      "metadata": {
        "id": "ZOPwFSpfi01g"
      },
      "outputs": [],
      "source": [
        "# 1: Average cosine similarity between i and items in u's history\n",
        "def rec1score(u, i, userHistory):\n",
        "    if len(userHistory) == 0:\n",
        "        return 0\n",
        "    averageSim = []\n",
        "    s1 = usersPerItem[i].difference(set([u]))\n",
        "    for h in userHistory:\n",
        "        s2 = usersPerItem[h].difference(set([u]))\n",
        "        averageSim.append(Jaccard(s1,s2))\n",
        "    averageSim = sum(averageSim)/len(averageSim)\n",
        "    return averageSim\n",
        "\n",
        "# 2: Jaccard similarity with most similar user who has consumed i\n",
        "def rec2score(u, i, userHistory):\n",
        "    bestSim = None\n",
        "    for v in usersPerItem[i]:\n",
        "        if u == v:\n",
        "            continue\n",
        "        sim = Jaccard(userHistory, itemsPerUser[v])\n",
        "        if bestSim == None or sim > bestSim:\n",
        "            bestSim = sim\n",
        "    if bestSim == None:\n",
        "        return 0\n",
        "    return bestSim\n",
        "\n",
        "# Generate a recommendation for a user based on a given scoring function\n",
        "def rec(u, score):\n",
        "    history = itemsPerUser[u]\n",
        "    if len(history) > 5: # If the history is too long, just take a sample\n",
        "        history = random.sample(history,5)\n",
        "    bestItem = None\n",
        "    bestScore = None\n",
        "    for i in items:\n",
        "        if i in itemsPerUser[u]: continue\n",
        "        s = score(u, i, history)\n",
        "        if bestItem == None or s > bestScore:\n",
        "            bestItem = i\n",
        "            bestScore = s\n",
        "\n",
        "    return bestItem, bestScore"
      ]
    },
    {
      "cell_type": "code",
      "execution_count": null,
      "metadata": {
        "id": "KzCZOwZTill5"
      },
      "outputs": [],
      "source": [
        "u = random.sample(users,1)[0]"
      ]
    },
    {
      "cell_type": "code",
      "execution_count": null,
      "metadata": {
        "id": "IY2RBi9XjTZ3",
        "colab": {
          "base_uri": "https://localhost:8080/"
        },
        "outputId": "d013213e-e0ab-4305-9277-d5af18efead0"
      },
      "outputs": [
        {
          "output_type": "execute_result",
          "data": {
            "text/plain": [
              "('7304203', 0.0)"
            ]
          },
          "metadata": {},
          "execution_count": 70
        }
      ],
      "source": [
        "rec(u, rec1score)"
      ]
    },
    {
      "cell_type": "code",
      "execution_count": null,
      "metadata": {
        "id": "D9AnzTtXjg7f",
        "colab": {
          "base_uri": "https://localhost:8080/"
        },
        "outputId": "60124b80-2a84-40e2-dbab-a6ee56fe147d"
      },
      "outputs": [
        {
          "output_type": "execute_result",
          "data": {
            "text/plain": [
              "('7304203', 0.0)"
            ]
          },
          "metadata": {},
          "execution_count": 71
        }
      ],
      "source": [
        "rec(u, rec2score)\n"
      ]
    },
    {
      "cell_type": "code",
      "execution_count": null,
      "metadata": {
        "id": "9FJ0CN-cjkjT"
      },
      "outputs": [],
      "source": [
        "def recTest(simFunction, nUserSamples):\n",
        "    items = set(usersPerItem.keys())\n",
        "    users = list(itemsPerUser.keys())\n",
        "    \n",
        "    better = 0\n",
        "    worse = 0\n",
        "\n",
        "    for u in random.sample(users, nUserSamples):\n",
        "        itemsU = set(itemsPerUser[u])\n",
        "        if len(itemsU) < 2:\n",
        "            continue\n",
        "        i = random.sample(itemsU, 1)[0]\n",
        "        uWithheld = itemsU.difference(set([i]))\n",
        "        j = random.sample(items,1)[0]\n",
        "\n",
        "        si = simFunction(u,i,uWithheld)\n",
        "        sj = simFunction(u,j,uWithheld)\n",
        "        \n",
        "        if si > sj:\n",
        "            better += 1\n",
        "        if sj > si:\n",
        "            worse += 1\n",
        "            \n",
        "    print(\"Better than random \" + str(better) + \" times\")\n",
        "    print(\"Worse than random \" + str(worse) + \" times\")\n"
      ]
    },
    {
      "cell_type": "code",
      "source": [
        "len(users)"
      ],
      "metadata": {
        "colab": {
          "base_uri": "https://localhost:8080/"
        },
        "id": "q92OFgwh1Yxd",
        "outputId": "fb0a257e-9390-45df-e54c-3d11bc71c854"
      },
      "execution_count": null,
      "outputs": [
        {
          "output_type": "execute_result",
          "data": {
            "text/plain": [
              "10"
            ]
          },
          "metadata": {},
          "execution_count": 79
        }
      ]
    },
    {
      "cell_type": "code",
      "execution_count": null,
      "metadata": {
        "id": "2AzKhQzPjlH5",
        "colab": {
          "base_uri": "https://localhost:8080/"
        },
        "outputId": "2e46b95a-c948-4990-ca03-6df02144bd82"
      },
      "outputs": [
        {
          "output_type": "stream",
          "name": "stdout",
          "text": [
            "Better than random 0 times\n",
            "Worse than random 1 times\n"
          ]
        }
      ],
      "source": [
        "recTest(rec1score,10)"
      ]
    },
    {
      "cell_type": "code",
      "execution_count": null,
      "metadata": {
        "id": "l3GICv45joQK",
        "colab": {
          "base_uri": "https://localhost:8080/"
        },
        "outputId": "49af6d0d-ff3f-47b9-d7fe-148ed296ebae"
      },
      "outputs": [
        {
          "output_type": "stream",
          "name": "stdout",
          "text": [
            "Better than random 0 times\n",
            "Worse than random 0 times\n"
          ]
        }
      ],
      "source": [
        "recTest(rec2score,10)"
      ]
    },
    {
      "cell_type": "markdown",
      "metadata": {
        "id": "6n4zxLEdjwsT"
      },
      "source": [
        "\n",
        "\n",
        "---\n",
        "#4.4\n",
        "---\n",
        "\n"
      ]
    },
    {
      "cell_type": "code",
      "source": [
        "reviewsPerUser = defaultdict(list)\n",
        "reviewsPerItem = defaultdict(list)\n",
        "\n",
        "for d in data:\n",
        "    user,item = d['user_id'], d['book_id']\n",
        "    reviewsPerUser[user].append(d)\n",
        "    reviewsPerItem[item].append(d)"
      ],
      "metadata": {
        "id": "sLPJ01Ps_WjJ"
      },
      "execution_count": null,
      "outputs": []
    },
    {
      "cell_type": "code",
      "source": [
        "ratingMean = sum([d['rating'] for d in data]) / len(data)\n",
        "ratingMean"
      ],
      "metadata": {
        "colab": {
          "base_uri": "https://localhost:8080/"
        },
        "id": "3cSgsIKj_kHM",
        "outputId": "2a0d83ed-0ec2-4a1e-d6d2-21ee4761260e"
      },
      "execution_count": null,
      "outputs": [
        {
          "output_type": "execute_result",
          "data": {
            "text/plain": [
              "4.09"
            ]
          },
          "metadata": {},
          "execution_count": 102
        }
      ]
    },
    {
      "cell_type": "code",
      "source": [
        "def predictRating(user,item):\n",
        "    ratings = []\n",
        "    similarities = []\n",
        "    for d in reviewsPerUser[user]:\n",
        "        i2 = d['book_id']\n",
        "        if i2 == item: continue\n",
        "        ratings.append(d['rating'] - itemAverages[i2])\n",
        "        similarities.append(Jaccard(usersPerItem[item],usersPerItem[i2]))\n",
        "    if (sum(similarities) > 0):\n",
        "        weightedRatings = [(x*y) for x,y in zip(ratings,similarities)]\n",
        "        return itemAverages[item] + sum(weightedRatings) / sum(similarities)\n",
        "    else:\n",
        "        # User hasn't rated any similar items\n",
        "        return ratingMean"
      ],
      "metadata": {
        "id": "GeIvKiR6Big0"
      },
      "execution_count": null,
      "outputs": []
    },
    {
      "cell_type": "code",
      "source": [
        "u,i = data[1]['user_id'], data[1]['book_id']\n",
        "predictRating(u, i)"
      ],
      "metadata": {
        "colab": {
          "base_uri": "https://localhost:8080/"
        },
        "id": "lIliUyFmCTf6",
        "outputId": "c1e7eefb-d673-4858-ef5c-e9f0896b3247"
      },
      "execution_count": null,
      "outputs": [
        {
          "output_type": "execute_result",
          "data": {
            "text/plain": [
              "5.0"
            ]
          },
          "metadata": {},
          "execution_count": 112
        }
      ]
    },
    {
      "cell_type": "code",
      "execution_count": null,
      "metadata": {
        "id": "Pch6XOupjsiM"
      },
      "outputs": [],
      "source": [
        "def predictRating1(user,item):\n",
        "    ratings = []\n",
        "    similarities = []\n",
        "    for d in reviewsPerUser[user]:\n",
        "        i2 = d['book_id']\n",
        "        if i2 == item: continue\n",
        "        ratings.append(d['rating'])\n",
        "        similarities.append(Jaccard(usersPerItem[item],usersPerItem[i2]))\n",
        "    if (sum(similarities) > 0):\n",
        "        weightedRatings = [(x*y) for x,y in zip(ratings,similarities)]\n",
        "        return sum(weightedRatings) / sum(similarities)\n",
        "    else:\n",
        "        return ratingMean"
      ]
    },
    {
      "cell_type": "code",
      "execution_count": null,
      "metadata": {
        "id": "_aW5UVRnj5yd"
      },
      "outputs": [],
      "source": [
        "def predictRating2(user,item):\n",
        "    ratings = []\n",
        "    similarities = []\n",
        "    for d in reviewsPerItem[item]:\n",
        "        u2 = d['user_id']\n",
        "        if u2 == user: continue\n",
        "        ratings.append(d['rating'])\n",
        "        similarities.append(Jaccard(itemsPerUser[user],itemsPerUser[u2]))\n",
        "    if (sum(similarities) > 0):\n",
        "        weightedRatings = [(x*y) for x,y in zip(ratings,similarities)]\n",
        "        return sum(weightedRatings) / sum(similarities)\n",
        "    else:\n",
        "        return ratingMean"
      ]
    },
    {
      "cell_type": "code",
      "execution_count": null,
      "metadata": {
        "id": "TGTOTsLNj82g"
      },
      "outputs": [],
      "source": [
        "def predictRating3(user,item):\n",
        "    ratings = []\n",
        "    similarities = []\n",
        "    for d in reviewsPerUser[user]:\n",
        "        i2 = d['book_id']\n",
        "        if i2 == item: continue\n",
        "        ratings.append(d['rating'] - itemAverages[i2])\n",
        "        similarities.append(Jaccard(usersPerItem[item],usersPerItem[i2]))\n",
        "    if (sum(similarities) > 0):\n",
        "        weightedRatings = [(x*y) for x,y in zip(ratings,similarities)]\n",
        "        return itemAverages[item] + sum(weightedRatings) / sum(similarities)\n",
        "    else:\n",
        "        return ratingMean"
      ]
    },
    {
      "cell_type": "code",
      "execution_count": null,
      "metadata": {
        "id": "Z2N5uDrekBX0"
      },
      "outputs": [],
      "source": [
        "simPredictions1 = [predictRating1(d['user_id'], d['book_id']) for d in data]\n",
        "simPredictions2 = [predictRating2(d['user_id'], d['book_id']) for d in data]\n",
        "simPredictions3 = [predictRating3(d['user_id'], d['book_id']) for d in data]"
      ]
    },
    {
      "cell_type": "code",
      "source": [
        "def MSE(predictions, labels):\n",
        "    differences = [(x-y)**2 for x,y in zip(predictions,labels)]\n",
        "    return sum(differences) / len(differences)"
      ],
      "metadata": {
        "id": "FyOlmz8lAHIr"
      },
      "execution_count": null,
      "outputs": []
    },
    {
      "cell_type": "code",
      "source": [
        "alwaysPredictMean = [ratingMean for d in data]\n",
        "simPredictions = [predictRating(d['user_id'], d['book_id']) for d in data]\n",
        "labels = [d['rating'] for d in data]"
      ],
      "metadata": {
        "id": "lR8iXLlEAuFz"
      },
      "execution_count": null,
      "outputs": []
    },
    {
      "cell_type": "code",
      "execution_count": null,
      "metadata": {
        "id": "vYr9sBz7kESY",
        "colab": {
          "base_uri": "https://localhost:8080/"
        },
        "outputId": "980b4128-dd91-40e2-ac51-711ca7641020"
      },
      "outputs": [
        {
          "output_type": "execute_result",
          "data": {
            "text/plain": [
              "1.2819000000000011"
            ]
          },
          "metadata": {},
          "execution_count": 116
        }
      ],
      "source": [
        "MSE(alwaysPredictMean,labels)"
      ]
    },
    {
      "cell_type": "code",
      "execution_count": null,
      "metadata": {
        "id": "_CfJo8vgkGMX",
        "colab": {
          "base_uri": "https://localhost:8080/"
        },
        "outputId": "dacbe7ae-ba6f-4a0d-a129-a05e4fa9772c"
      },
      "outputs": [
        {
          "output_type": "execute_result",
          "data": {
            "text/plain": [
              "0.8970476034589885"
            ]
          },
          "metadata": {},
          "execution_count": 117
        }
      ],
      "source": [
        "MSE(simPredictions1, labels)"
      ]
    },
    {
      "cell_type": "code",
      "execution_count": null,
      "metadata": {
        "id": "zd69xVK_kG-B",
        "colab": {
          "base_uri": "https://localhost:8080/"
        },
        "outputId": "37204c7d-ecf0-4670-e7d2-d7c6f02c6917"
      },
      "outputs": [
        {
          "output_type": "execute_result",
          "data": {
            "text/plain": [
              "1.293538000000001"
            ]
          },
          "metadata": {},
          "execution_count": 118
        }
      ],
      "source": [
        "MSE(simPredictions2, labels)"
      ]
    },
    {
      "cell_type": "code",
      "execution_count": null,
      "metadata": {
        "id": "xm13ArgGkJSG",
        "colab": {
          "base_uri": "https://localhost:8080/"
        },
        "outputId": "c1dddc73-145f-4b27-851a-371ecf3a5147"
      },
      "outputs": [
        {
          "output_type": "execute_result",
          "data": {
            "text/plain": [
              "0.021670415516107856"
            ]
          },
          "metadata": {},
          "execution_count": 119
        }
      ],
      "source": [
        "MSE(simPredictions3, labels)"
      ]
    },
    {
      "cell_type": "markdown",
      "metadata": {
        "id": "IxdITXWklpLc"
      },
      "source": [
        "\n",
        "\n",
        "---\n",
        "\n",
        "# GOODREADS PROJECT\n",
        "\n",
        "---\n",
        "\n"
      ]
    },
    {
      "cell_type": "code",
      "execution_count": null,
      "metadata": {
        "id": "uD-20K0EloDJ"
      },
      "outputs": [],
      "source": [
        "path = \"/content/fantasy_100.json\"\n",
        "f = open(path)\n",
        "\n",
        "data = []\n",
        "\n",
        "for l in f:\n",
        "    d = json.loads(l)\n",
        "    data.append(d)\n",
        "    \n",
        "f.close()"
      ]
    },
    {
      "cell_type": "code",
      "execution_count": null,
      "metadata": {
        "id": "Oir1Vd9-mFNN"
      },
      "outputs": [],
      "source": [
        "items = set(usersPerItem.keys())\n",
        "users = set(itemsPerUser.keys())"
      ]
    },
    {
      "cell_type": "code",
      "execution_count": null,
      "metadata": {
        "id": "-aqhmqxXmSZb",
        "colab": {
          "base_uri": "https://localhost:8080/"
        },
        "outputId": "681db90d-ad22-47fc-d3d7-b18b1ae8fcc4"
      },
      "outputs": [
        {
          "output_type": "execute_result",
          "data": {
            "text/plain": [
              "{'book_id': '18245960',\n",
              " 'date_added': 'Sun Jul 30 07:44:10 -0700 2017',\n",
              " 'date_updated': 'Wed Aug 30 00:00:26 -0700 2017',\n",
              " 'n_comments': 1,\n",
              " 'n_votes': 28,\n",
              " 'rating': 5,\n",
              " 'read_at': 'Sat Aug 26 12:05:52 -0700 2017',\n",
              " 'review_id': 'dfdbb7b0eb5a7e4c26d59a937e2e5feb',\n",
              " 'review_text': 'This is a special book. It started slow for about the first third, then in the middle third it started to get interesting, then the last third blew my mind. This is what I love about good science fiction - it pushes your thinking about where things can go. \\n It is a 2015 Hugo winner, and translated from its original Chinese, which made it interesting in just a different way from most things I\\'ve read. For instance the intermixing of Chinese revolutionary history - how they kept accusing people of being \"reactionaries\", etc. \\n It is a book about science, and aliens. The science described in the book is impressive - its a book grounded in physics and pretty accurate as far as I could tell. Though when it got to folding protons into 8 dimensions I think he was just making stuff up - interesting to think about though. \\n But what would happen if our SETI stations received a message - if we found someone was out there - and the person monitoring and answering the signal on our side was disillusioned? That part of the book was a bit dark - I would like to think human reaction to discovering alien civilization that is hostile would be more like Enders Game where we would band together. \\n I did like how the book unveiled the Trisolaran culture through the game. It was a smart way to build empathy with them and also understand what they\\'ve gone through across so many centuries. And who know a 3 body problem was an unsolvable math problem? But I still don\\'t get who made the game - maybe that will come in the next book. \\n I loved this quote: \\n \"In the long history of scientific progress, how many protons have been smashed apart in accelerators by physicists? How many neutrons and electrons? Probably no fewer than a hundred million. Every collision was probably the end of the civilizations and intelligences in a microcosmos. In fact, even in nature, the destruction of universes must be happening at every second--for example, through the decay of neutrons. Also, a high-energy cosmic ray entering the atmosphere may destroy thousands of such miniature universes....\"',\n",
              " 'started_at': 'Tue Aug 15 13:23:18 -0700 2017',\n",
              " 'user_id': '8842281e1d1347389f2ab93d60773d4d'}"
            ]
          },
          "metadata": {},
          "execution_count": 32
        }
      ],
      "source": [
        "data[0]"
      ]
    },
    {
      "cell_type": "code",
      "execution_count": null,
      "metadata": {
        "id": "QVPT98nxmby7"
      },
      "outputs": [],
      "source": [
        "# 1: Average cosine similarity between i and items in u's history\n",
        "def rec1score(u, i, userHistory):\n",
        "    if len(userHistory) == 0:\n",
        "        return 0\n",
        "    averageSim = []\n",
        "    s1 = usersPerItem[i].difference(set([u]))\n",
        "    for h in userHistory:\n",
        "        s2 = usersPerItem[h].difference(set([u]))\n",
        "        averageSim.append(Jaccard(s1,s2))\n",
        "    averageSim = sum(averageSim)/len(averageSim)\n",
        "    return averageSim\n",
        "\n",
        "# 2: Jaccard similarity with most similar user who has consumed i\n",
        "def rec2score(u, i, userHistory):\n",
        "    bestSim = None\n",
        "    for v in usersPerItem[i]:\n",
        "        if u == v:\n",
        "            continue\n",
        "        sim = Jaccard(userHistory, itemsPerUser[v])\n",
        "        if bestSim == None or sim > bestSim:\n",
        "            bestSim = sim\n",
        "    if bestSim == None:\n",
        "        return 0\n",
        "    return bestSim\n",
        "\n",
        "# Generate a recommendation for a user based on a given scoring function\n",
        "def rec(u, score):\n",
        "    history = itemsPerUser[u]\n",
        "    if len(history) > 5: # If the history is too long, just take a sample\n",
        "        history = random.sample(history,5)\n",
        "    bestItem = None\n",
        "    bestScore = None\n",
        "    for i in items:\n",
        "        if i in itemsPerUser[u]: continue\n",
        "        s = score(u, i, history)\n",
        "        if bestItem == None or s > bestScore:\n",
        "            bestItem = i\n",
        "            bestScore = s\n",
        "\n",
        "    return bestItem, bestScore"
      ]
    },
    {
      "cell_type": "code",
      "execution_count": null,
      "metadata": {
        "id": "4ZmY5CSxmi9P"
      },
      "outputs": [],
      "source": [
        "u = random.sample(user,1)[0]"
      ]
    },
    {
      "cell_type": "code",
      "execution_count": null,
      "metadata": {
        "id": "UklFj3kPmmqg",
        "colab": {
          "base_uri": "https://localhost:8080/"
        },
        "outputId": "f479453a-9c7f-4f67-a97a-a7c30278bd0a"
      },
      "outputs": [
        {
          "output_type": "execute_result",
          "data": {
            "text/plain": [
              "('7304203', 0)"
            ]
          },
          "metadata": {},
          "execution_count": 45
        }
      ],
      "source": [
        "rec(u, rec1score)"
      ]
    },
    {
      "cell_type": "code",
      "execution_count": null,
      "metadata": {
        "id": "_XJCuimKmqRs",
        "colab": {
          "base_uri": "https://localhost:8080/"
        },
        "outputId": "8de72b5b-f799-436c-b783-d1eca6f372cc"
      },
      "outputs": [
        {
          "output_type": "execute_result",
          "data": {
            "text/plain": [
              "('7304203', 0.0)"
            ]
          },
          "metadata": {},
          "execution_count": 24
        }
      ],
      "source": [
        "rec(u, rec2score)"
      ]
    },
    {
      "cell_type": "code",
      "execution_count": null,
      "metadata": {
        "id": "pMweyYs7muyH"
      },
      "outputs": [],
      "source": [
        "def recTest(simFunction, nUserSamples):\n",
        "    items = set(usersPerItem.keys())\n",
        "    users = list(itemsPerUser.keys())\n",
        "    \n",
        "    better = 0\n",
        "    worse = 0\n",
        "\n",
        "    for u in random.sample(users, nUserSamples):\n",
        "        itemsU = set(itemsPerUser[u])\n",
        "        if len(itemsU) < 2:\n",
        "            continue\n",
        "        i = random.sample(itemsU, 1)[0]\n",
        "        uWithheld = itemsU.difference(set([i]))\n",
        "        j = random.sample(items,1)[0]\n",
        "\n",
        "        si = simFunction(u,i,uWithheld)\n",
        "        sj = simFunction(u,j,uWithheld)\n",
        "        \n",
        "        if si > sj:\n",
        "            better += 1\n",
        "        if sj > si:\n",
        "            worse += 1\n",
        "            \n",
        "    print(\"Better than random \" + str(better) + \" times\")\n",
        "    print(\"Worse than random \" + str(worse) + \" times\")"
      ]
    },
    {
      "cell_type": "code",
      "execution_count": null,
      "metadata": {
        "id": "g1iyJDpdmxZp",
        "colab": {
          "base_uri": "https://localhost:8080/"
        },
        "outputId": "d3477810-780c-4bab-832b-43a7bd63dd6a"
      },
      "outputs": [
        {
          "output_type": "stream",
          "name": "stdout",
          "text": [
            "Better than random 0 times\n",
            "Worse than random 0 times\n"
          ]
        }
      ],
      "source": [
        "recTest(rec1score,10)"
      ]
    },
    {
      "cell_type": "code",
      "execution_count": null,
      "metadata": {
        "id": "tmIXa2n3mzai",
        "colab": {
          "base_uri": "https://localhost:8080/"
        },
        "outputId": "bd8dbe90-a256-4e71-d132-da6613635ff9"
      },
      "outputs": [
        {
          "output_type": "stream",
          "name": "stdout",
          "text": [
            "Better than random 0 times\n",
            "Worse than random 0 times\n"
          ]
        }
      ],
      "source": [
        "recTest(rec2score,10)"
      ]
    },
    {
      "cell_type": "markdown",
      "source": [
        "# **CONCLUSION**\n",
        "\n",
        "- Implemented simple item-to-item recommendation strategies.\n",
        "\n",
        "- Extracted simple features to describe user - item interactions. Builded training set consisting of all pairs (u, i) where books ->i, users ->u.\n",
        "\n",
        "- Average cosine similarity between i and items in u's history is calculated.\n",
        "\n",
        "- Jaccard similarity with most similar user who has consumed i is computed.\n",
        "\n",
        "- Generated recommendation for a user based on a given scoring function"
      ],
      "metadata": {
        "id": "QTggAILI5AZH"
      }
    }
  ],
  "metadata": {
    "colab": {
      "collapsed_sections": [
        "Zp19_pD2PKhm",
        "k7XpXx0gPdrq",
        "GH9FcnECiUEL",
        "6n4zxLEdjwsT",
        "IxdITXWklpLc"
      ],
      "name": "PracLogisticReg.ipynb",
      "provenance": []
    },
    "kernelspec": {
      "display_name": "Python 3",
      "name": "python3"
    },
    "language_info": {
      "name": "python"
    }
  },
  "nbformat": 4,
  "nbformat_minor": 0
}